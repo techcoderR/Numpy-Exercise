{
  "nbformat": 4,
  "nbformat_minor": 0,
  "metadata": {
    "colab": {
      "name": "Numpy Exercise.ipynb",
      "provenance": [],
      "collapsed_sections": [],
      "authorship_tag": "ABX9TyMVxVoc2VY35OL9aJf/h5mI",
      "include_colab_link": true
    },
    "kernelspec": {
      "name": "python3",
      "display_name": "Python 3"
    },
    "language_info": {
      "name": "python"
    }
  },
  "cells": [
    {
      "cell_type": "markdown",
      "metadata": {
        "id": "view-in-github",
        "colab_type": "text"
      },
      "source": [
        "<a href=\"https://colab.research.google.com/github/techcoderR/Numpy-Exercise/blob/main/Numpy_Exercise.ipynb\" target=\"_parent\"><img src=\"https://colab.research.google.com/assets/colab-badge.svg\" alt=\"Open In Colab\"/></a>"
      ]
    },
    {
      "cell_type": "markdown",
      "source": [
        "\n",
        "\n",
        "---\n",
        "#NumPY exercise\n"
      ],
      "metadata": {
        "id": "K7HZY2KNdRlO"
      }
    },
    {
      "cell_type": "code",
      "execution_count": 1,
      "metadata": {
        "id": "4ikgKdoj-mP1",
        "colab": {
          "base_uri": "https://localhost:8080/"
        },
        "outputId": "49d9565d-84f9-4e7a-fbde-4258d90fd214"
      },
      "outputs": [
        {
          "output_type": "stream",
          "name": "stdout",
          "text": [
            "1.19.5\n"
          ]
        }
      ],
      "source": [
        "# Import the numpy package under the name np\n",
        "import numpy as np\n",
        "\n",
        "# Print the numpy version and the configuration\n",
        "print(np.__version__)"
      ]
    },
    {
      "cell_type": "markdown",
      "source": [
        "## Array Creation\n",
        "#### Create a numpy array of size 10 filled with zeros"
      ],
      "metadata": {
        "id": "K7Ch21SDeSRK"
      }
    },
    {
      "cell_type": "code",
      "source": [
        "np.zeros(10)"
      ],
      "metadata": {
        "colab": {
          "base_uri": "https://localhost:8080/"
        },
        "id": "Rj9h0gV4eLOz",
        "outputId": "d01cb8d7-2d14-4f52-8d0c-39e7b7c731ee"
      },
      "execution_count": 2,
      "outputs": [
        {
          "output_type": "execute_result",
          "data": {
            "text/plain": [
              "array([0., 0., 0., 0., 0., 0., 0., 0., 0., 0.])"
            ]
          },
          "metadata": {},
          "execution_count": 2
        }
      ]
    },
    {
      "cell_type": "markdown",
      "source": [
        "#### Create a numpy array with value ranging from 10 to 49"
      ],
      "metadata": {
        "id": "CQt__z24eiu_"
      }
    },
    {
      "cell_type": "code",
      "source": [
        "np.arange(10,50)"
      ],
      "metadata": {
        "colab": {
          "base_uri": "https://localhost:8080/"
        },
        "id": "poBLgdgcepfS",
        "outputId": "3ce7b147-80be-4571-daf4-24ee198920db"
      },
      "execution_count": 4,
      "outputs": [
        {
          "output_type": "execute_result",
          "data": {
            "text/plain": [
              "array([10, 11, 12, 13, 14, 15, 16, 17, 18, 19, 20, 21, 22, 23, 24, 25, 26,\n",
              "       27, 28, 29, 30, 31, 32, 33, 34, 35, 36, 37, 38, 39, 40, 41, 42, 43,\n",
              "       44, 45, 46, 47, 48, 49])"
            ]
          },
          "metadata": {},
          "execution_count": 4
        }
      ]
    },
    {
      "cell_type": "markdown",
      "source": [
        "#### Create a numpy matrix of 2*2 integers, filled with ones."
      ],
      "metadata": {
        "id": "Vy-Ebh_ufDiX"
      }
    },
    {
      "cell_type": "code",
      "source": [
        "np.ones([2,2] ,dtype=np.int)"
      ],
      "metadata": {
        "colab": {
          "base_uri": "https://localhost:8080/"
        },
        "id": "Sc9oEXykesNc",
        "outputId": "6d4c9fe4-17f0-44e5-d56a-0399af88da54"
      },
      "execution_count": 9,
      "outputs": [
        {
          "output_type": "execute_result",
          "data": {
            "text/plain": [
              "array([[1, 1],\n",
              "       [1, 1]])"
            ]
          },
          "metadata": {},
          "execution_count": 9
        }
      ]
    },
    {
      "cell_type": "markdown",
      "source": [
        "#### Create a numpy matrix of 3*2 float numbers, filled with ones."
      ],
      "metadata": {
        "id": "82oS-gMzkRvG"
      }
    },
    {
      "cell_type": "code",
      "source": [
        "np.ones([3,2],dtype=np.float)"
      ],
      "metadata": {
        "colab": {
          "base_uri": "https://localhost:8080/"
        },
        "id": "Z34ynPppfKqa",
        "outputId": "5836375e-8aba-4c9f-d8fc-63f7f26859a9"
      },
      "execution_count": 10,
      "outputs": [
        {
          "output_type": "execute_result",
          "data": {
            "text/plain": [
              "array([[1., 1.],\n",
              "       [1., 1.],\n",
              "       [1., 1.]])"
            ]
          },
          "metadata": {},
          "execution_count": 10
        }
      ]
    },
    {
      "cell_type": "markdown",
      "source": [
        "####Given the X numpy array, create a new numpy array with the same shape and type as X, filled with ones."
      ],
      "metadata": {
        "id": "VtXOwcuzkbHS"
      }
    },
    {
      "cell_type": "code",
      "source": [
        "x=np.random.randint(100,size=[4,4],dtype=np.int)\n",
        "\n",
        "np.ones_like(x)"
      ],
      "metadata": {
        "colab": {
          "base_uri": "https://localhost:8080/"
        },
        "id": "94ZnAGcdkZBh",
        "outputId": "f1fee3fb-82c3-4a03-e7dc-48f3c04dd5ca"
      },
      "execution_count": 29,
      "outputs": [
        {
          "output_type": "execute_result",
          "data": {
            "text/plain": [
              "array([[1, 1, 1, 1],\n",
              "       [1, 1, 1, 1],\n",
              "       [1, 1, 1, 1],\n",
              "       [1, 1, 1, 1]])"
            ]
          },
          "metadata": {},
          "execution_count": 29
        }
      ]
    },
    {
      "cell_type": "markdown",
      "source": [
        "#### Given the X numpy matrix, create a new numpy matrix with the same shape and type as X, filled with zeros."
      ],
      "metadata": {
        "id": "iseE8KsUlOTe"
      }
    },
    {
      "cell_type": "code",
      "source": [
        "x=np.random.randint(100,size=[4,4],dtype=np.int)\n",
        "\n",
        "np.zeros_like(x)"
      ],
      "metadata": {
        "colab": {
          "base_uri": "https://localhost:8080/"
        },
        "id": "8tCbm3T7ktC4",
        "outputId": "2033c860-7576-4229-9b57-aa4e5fb6b1f7"
      },
      "execution_count": 28,
      "outputs": [
        {
          "output_type": "execute_result",
          "data": {
            "text/plain": [
              "array([[0, 0, 0, 0],\n",
              "       [0, 0, 0, 0],\n",
              "       [0, 0, 0, 0],\n",
              "       [0, 0, 0, 0]])"
            ]
          },
          "metadata": {},
          "execution_count": 28
        }
      ]
    },
    {
      "cell_type": "markdown",
      "source": [
        "####Create a numpy matrix of 4*4 integers, filled with fives."
      ],
      "metadata": {
        "id": "HcErtTRqlW7D"
      }
    },
    {
      "cell_type": "code",
      "source": [
        "a=np.ones((4,4),dtype=np.int)\n",
        "#a=a*5\n",
        "print(a*5)"
      ],
      "metadata": {
        "colab": {
          "base_uri": "https://localhost:8080/"
        },
        "id": "W70lsgBzlUqJ",
        "outputId": "6dc5d111-38bc-4b65-b772-ccb78f6f50e4"
      },
      "execution_count": 27,
      "outputs": [
        {
          "output_type": "stream",
          "name": "stdout",
          "text": [
            "[[5 5 5 5]\n",
            " [5 5 5 5]\n",
            " [5 5 5 5]\n",
            " [5 5 5 5]]\n"
          ]
        }
      ]
    },
    {
      "cell_type": "markdown",
      "source": [
        "#### Given the X numpy matrix, create a new numpy matrix with the same shape and type as X, filled with sevens."
      ],
      "metadata": {
        "id": "Tco50pcAnCOI"
      }
    },
    {
      "cell_type": "code",
      "source": [
        "x=np.random.randint(100,size=[4,4],dtype=np.int)\n",
        "\n",
        "(np.ones_like(x))*7\n"
      ],
      "metadata": {
        "colab": {
          "base_uri": "https://localhost:8080/"
        },
        "id": "qIxWGmVKm21-",
        "outputId": "fc770ec1-a895-4675-b162-7869c266444c"
      },
      "execution_count": 30,
      "outputs": [
        {
          "output_type": "execute_result",
          "data": {
            "text/plain": [
              "array([[7, 7, 7, 7],\n",
              "       [7, 7, 7, 7],\n",
              "       [7, 7, 7, 7],\n",
              "       [7, 7, 7, 7]])"
            ]
          },
          "metadata": {},
          "execution_count": 30
        }
      ]
    },
    {
      "cell_type": "markdown",
      "source": [
        "#### Create a 3*3 identity numpy matrix with ones on the diagonal and zeros elsewhere."
      ],
      "metadata": {
        "id": "RcHw80IXnu8A"
      }
    },
    {
      "cell_type": "code",
      "source": [
        "np.eye(3,3)"
      ],
      "metadata": {
        "colab": {
          "base_uri": "https://localhost:8080/"
        },
        "id": "9I4n7FsNnr2y",
        "outputId": "c1067796-303a-4b45-cda5-d2d85fedf4e3"
      },
      "execution_count": 32,
      "outputs": [
        {
          "output_type": "execute_result",
          "data": {
            "text/plain": [
              "array([[1., 0., 0.],\n",
              "       [0., 1., 0.],\n",
              "       [0., 0., 1.]])"
            ]
          },
          "metadata": {},
          "execution_count": 32
        }
      ]
    },
    {
      "cell_type": "code",
      "source": [
        "np.identity(3)"
      ],
      "metadata": {
        "colab": {
          "base_uri": "https://localhost:8080/"
        },
        "id": "iBOPCKpin9Tr",
        "outputId": "2c2d5ee0-746f-48c8-ac4f-e6c8e5325953"
      },
      "execution_count": 34,
      "outputs": [
        {
          "output_type": "execute_result",
          "data": {
            "text/plain": [
              "array([[1., 0., 0.],\n",
              "       [0., 1., 0.],\n",
              "       [0., 0., 1.]])"
            ]
          },
          "metadata": {},
          "execution_count": 34
        }
      ]
    },
    {
      "cell_type": "markdown",
      "source": [
        "####  Create a numpy array, filled with 3 random integer values between 1 and 10."
      ],
      "metadata": {
        "id": "7clGAD3AoMPH"
      }
    },
    {
      "cell_type": "code",
      "source": [
        "x=np.random.randint(10,size=3)"
      ],
      "metadata": {
        "id": "7tCsc_WToGJ4"
      },
      "execution_count": 38,
      "outputs": []
    },
    {
      "cell_type": "code",
      "source": [
        "x"
      ],
      "metadata": {
        "colab": {
          "base_uri": "https://localhost:8080/"
        },
        "id": "X29k9F2toXQv",
        "outputId": "724d68d8-32ff-4c39-d8ba-6e961ad74b40"
      },
      "execution_count": 39,
      "outputs": [
        {
          "output_type": "execute_result",
          "data": {
            "text/plain": [
              "array([6, 8, 2])"
            ]
          },
          "metadata": {},
          "execution_count": 39
        }
      ]
    },
    {
      "cell_type": "markdown",
      "source": [
        "#### Create a 3x3x3 numpy matrix, filled with random float values."
      ],
      "metadata": {
        "id": "QBBnmg27ox4J"
      }
    },
    {
      "cell_type": "code",
      "source": [
        "np.random.randn(3,3,3)"
      ],
      "metadata": {
        "colab": {
          "base_uri": "https://localhost:8080/"
        },
        "id": "rr5_x7OGoYy2",
        "outputId": "e1a76014-f5ef-4aff-df7b-940a9c7442b3"
      },
      "execution_count": 40,
      "outputs": [
        {
          "output_type": "execute_result",
          "data": {
            "text/plain": [
              "array([[[ 0.54930752, -1.04861697, -0.43177511],\n",
              "        [-0.01750912,  0.506657  ,  0.38408064],\n",
              "        [-0.7738779 , -1.07348491, -0.47786063]],\n",
              "\n",
              "       [[ 0.93784858,  1.21194784,  0.96863367],\n",
              "        [-1.95773057,  1.11595044,  0.53878578],\n",
              "        [ 0.9642446 ,  0.32161624, -0.81536095]],\n",
              "\n",
              "       [[ 0.02037053,  1.3638636 ,  0.82297563],\n",
              "        [ 0.62313149, -0.08413076,  1.15782731],\n",
              "        [-0.40884808, -0.23552854, -2.42601789]]])"
            ]
          },
          "metadata": {},
          "execution_count": 40
        }
      ]
    },
    {
      "cell_type": "code",
      "source": [
        "np.random.randint(100,size=[3,3,3]) ##only plot int value"
      ],
      "metadata": {
        "colab": {
          "base_uri": "https://localhost:8080/"
        },
        "id": "F86yFapVo5pz",
        "outputId": "35151d6c-b625-4526-f111-fcf8cc090db0"
      },
      "execution_count": 45,
      "outputs": [
        {
          "output_type": "execute_result",
          "data": {
            "text/plain": [
              "array([[[71, 57, 87],\n",
              "        [22, 87, 50],\n",
              "        [27, 18, 83]],\n",
              "\n",
              "       [[ 4, 17, 88],\n",
              "        [10, 85, 88],\n",
              "        [66, 29, 52]],\n",
              "\n",
              "       [[ 8, 68, 52],\n",
              "        [81, 99, 70],\n",
              "        [80,  2, 30]]])"
            ]
          },
          "metadata": {},
          "execution_count": 45
        }
      ]
    },
    {
      "cell_type": "code",
      "source": [
        "np.random.random(size=[3,3,3]) #alternate"
      ],
      "metadata": {
        "colab": {
          "base_uri": "https://localhost:8080/"
        },
        "id": "9dS1w4odpHxG",
        "outputId": "a6cf1561-1e98-4a88-e5b7-001204347b8d"
      },
      "execution_count": 46,
      "outputs": [
        {
          "output_type": "execute_result",
          "data": {
            "text/plain": [
              "array([[[0.19819056, 0.74532474, 0.00586091],\n",
              "        [0.10547274, 0.54237804, 0.34787987],\n",
              "        [0.49286494, 0.53388477, 0.45140862]],\n",
              "\n",
              "       [[0.16209319, 0.49707477, 0.41751453],\n",
              "        [0.83070764, 0.54855433, 0.00326533],\n",
              "        [0.52395469, 0.81835861, 0.40110699]],\n",
              "\n",
              "       [[0.46258038, 0.19308981, 0.94032966],\n",
              "        [0.98461074, 0.69054211, 0.79996287],\n",
              "        [0.14141954, 0.58890396, 0.4584146 ]]])"
            ]
          },
          "metadata": {},
          "execution_count": 46
        }
      ]
    },
    {
      "cell_type": "markdown",
      "source": [
        "####Given the X python list convert it to an Y numpy array"
      ],
      "metadata": {
        "id": "SujuVF2QpkYa"
      }
    },
    {
      "cell_type": "code",
      "source": [
        "x=[1,2,3,4]\n",
        "print(x,type(x))\n",
        "y=np.array(x)\n",
        "print(x,type(y))"
      ],
      "metadata": {
        "colab": {
          "base_uri": "https://localhost:8080/"
        },
        "id": "9_RQasqZpgi9",
        "outputId": "f932c669-adc9-4c8e-b937-4b31f334ea13"
      },
      "execution_count": 49,
      "outputs": [
        {
          "output_type": "stream",
          "name": "stdout",
          "text": [
            "[1, 2, 3, 4] <class 'list'>\n",
            "[1, 2, 3, 4] <class 'numpy.ndarray'>\n"
          ]
        }
      ]
    },
    {
      "cell_type": "markdown",
      "source": [
        "####  Given the X numpy array, make a copy and store it on Y."
      ],
      "metadata": {
        "id": "HWkhBM54qEYo"
      }
    },
    {
      "cell_type": "code",
      "source": [
        "x=np.array([1,2],dtype=int)\n",
        "y=np.copy(x) ##copy the array\n",
        "print(x,id(x))\n",
        "print(y,id(y))"
      ],
      "metadata": {
        "colab": {
          "base_uri": "https://localhost:8080/"
        },
        "id": "V51zE4dKp1cs",
        "outputId": "358857a9-25c0-4872-f5b5-9d086b43e806"
      },
      "execution_count": 53,
      "outputs": [
        {
          "output_type": "stream",
          "name": "stdout",
          "text": [
            "[1 2] 140404367210576\n",
            "[1 2] 140404366676656\n"
          ]
        }
      ]
    },
    {
      "cell_type": "markdown",
      "source": [
        "#### Create a numpy array with numbers from 1 to 10"
      ],
      "metadata": {
        "id": "pfi7wYCeqj5O"
      }
    },
    {
      "cell_type": "code",
      "source": [
        "np.arange(1,10)"
      ],
      "metadata": {
        "colab": {
          "base_uri": "https://localhost:8080/"
        },
        "id": "Cnal_rUlqP5E",
        "outputId": "90b6033c-ecbe-4d46-edd5-1c8d9539617f"
      },
      "execution_count": 54,
      "outputs": [
        {
          "output_type": "execute_result",
          "data": {
            "text/plain": [
              "array([1, 2, 3, 4, 5, 6, 7, 8, 9])"
            ]
          },
          "metadata": {},
          "execution_count": 54
        }
      ]
    },
    {
      "cell_type": "markdown",
      "source": [
        "#### Create a numpy array with the odd numbers between 1 to 10"
      ],
      "metadata": {
        "id": "URwlmFkgqqBm"
      }
    },
    {
      "cell_type": "code",
      "source": [
        "np.arange(1,10,2)"
      ],
      "metadata": {
        "colab": {
          "base_uri": "https://localhost:8080/"
        },
        "id": "5cOTBWnNqodN",
        "outputId": "76c32ea8-b98e-4857-d114-f2965f46c663"
      },
      "execution_count": 55,
      "outputs": [
        {
          "output_type": "execute_result",
          "data": {
            "text/plain": [
              "array([1, 3, 5, 7, 9])"
            ]
          },
          "metadata": {},
          "execution_count": 55
        }
      ]
    },
    {
      "cell_type": "markdown",
      "source": [
        "#### Create a numpy array with numbers from 1 to 10, in descending order."
      ],
      "metadata": {
        "id": "6NggSZypq0uS"
      }
    },
    {
      "cell_type": "code",
      "source": [
        "np.arange(10,0,-1)"
      ],
      "metadata": {
        "colab": {
          "base_uri": "https://localhost:8080/"
        },
        "id": "p5CfDxG9qwAw",
        "outputId": "7cecb9ec-c1dd-4525-b7ea-a5840b4413bd"
      },
      "execution_count": 60,
      "outputs": [
        {
          "output_type": "execute_result",
          "data": {
            "text/plain": [
              "array([10,  9,  8,  7,  6,  5,  4,  3,  2,  1])"
            ]
          },
          "metadata": {},
          "execution_count": 60
        }
      ]
    },
    {
      "cell_type": "code",
      "source": [
        "np.arange(1, 11)[::-1] #alternate"
      ],
      "metadata": {
        "colab": {
          "base_uri": "https://localhost:8080/"
        },
        "id": "zI_GjS2cq7gs",
        "outputId": "c9ede323-b73a-4fe1-9372-c73526eb7a97"
      },
      "execution_count": 59,
      "outputs": [
        {
          "output_type": "execute_result",
          "data": {
            "text/plain": [
              "array([10,  9,  8,  7,  6,  5,  4,  3,  2,  1])"
            ]
          },
          "metadata": {},
          "execution_count": 59
        }
      ]
    },
    {
      "cell_type": "markdown",
      "source": [
        "#### Create a 3*3 numpy matrix, filled with values ranging from 0 to 8"
      ],
      "metadata": {
        "id": "YUfZiOF9rN6v"
      }
    },
    {
      "cell_type": "code",
      "source": [
        "np.random.randint(8,size=[3,3]) #using random functiom"
      ],
      "metadata": {
        "colab": {
          "base_uri": "https://localhost:8080/"
        },
        "id": "6psVXqFzrI2g",
        "outputId": "0fa5af27-5a85-4adf-8c0d-28f2a40318fb"
      },
      "execution_count": 63,
      "outputs": [
        {
          "output_type": "execute_result",
          "data": {
            "text/plain": [
              "array([[5, 7, 2],\n",
              "       [0, 4, 3],\n",
              "       [6, 5, 6]])"
            ]
          },
          "metadata": {},
          "execution_count": 63
        }
      ]
    },
    {
      "cell_type": "code",
      "source": [
        "np.arange(9).reshape(3,3) #using arange function"
      ],
      "metadata": {
        "colab": {
          "base_uri": "https://localhost:8080/"
        },
        "id": "_MMMmSr7raEi",
        "outputId": "cb22ad28-f4f3-48c1-daa5-9305e2fb3540"
      },
      "execution_count": 64,
      "outputs": [
        {
          "output_type": "execute_result",
          "data": {
            "text/plain": [
              "array([[0, 1, 2],\n",
              "       [3, 4, 5],\n",
              "       [6, 7, 8]])"
            ]
          },
          "metadata": {},
          "execution_count": 64
        }
      ]
    },
    {
      "cell_type": "markdown",
      "source": [
        "#### Show the memory size of the given Z numpy matrix"
      ],
      "metadata": {
        "id": "9GfpmtVnsBHf"
      }
    },
    {
      "cell_type": "code",
      "source": [
        "z=np.zeros((3,3))\n",
        "print(z.itemsize*(z.size))\n"
      ],
      "metadata": {
        "colab": {
          "base_uri": "https://localhost:8080/"
        },
        "id": "78na5EAzrmzf",
        "outputId": "3d68e437-7d49-4c26-8766-39f891537580"
      },
      "execution_count": 73,
      "outputs": [
        {
          "output_type": "stream",
          "name": "stdout",
          "text": [
            "72\n"
          ]
        }
      ]
    },
    {
      "cell_type": "markdown",
      "source": [
        "## Array indexation"
      ],
      "metadata": {
        "id": "1wvA-dZcs2x-"
      }
    },
    {
      "cell_type": "markdown",
      "source": [
        "#### Given the X numpy array, show it's first element"
      ],
      "metadata": {
        "id": "1_BSCOpgs-OK"
      }
    },
    {
      "cell_type": "code",
      "source": [
        "a=np.array([1,2,3,4,5])\n",
        "a[1]"
      ],
      "metadata": {
        "colab": {
          "base_uri": "https://localhost:8080/"
        },
        "id": "qg5_-XxfsKRT",
        "outputId": "8585156e-7acc-402a-fdda-7676260d7806"
      },
      "execution_count": 84,
      "outputs": [
        {
          "output_type": "execute_result",
          "data": {
            "text/plain": [
              "2"
            ]
          },
          "metadata": {},
          "execution_count": 84
        }
      ]
    },
    {
      "cell_type": "markdown",
      "source": [
        "####  Given the X numpy array, show it's first three elements\n"
      ],
      "metadata": {
        "id": "6M2dayVKtPxx"
      }
    },
    {
      "cell_type": "code",
      "source": [
        "a[0:3]"
      ],
      "metadata": {
        "colab": {
          "base_uri": "https://localhost:8080/"
        },
        "id": "2rp8JRJCtKJY",
        "outputId": "4660e251-483e-4df1-a08c-017988feeb1d"
      },
      "execution_count": 82,
      "outputs": [
        {
          "output_type": "execute_result",
          "data": {
            "text/plain": [
              "array([1, 2, 3])"
            ]
          },
          "metadata": {},
          "execution_count": 82
        }
      ]
    },
    {
      "cell_type": "markdown",
      "source": [
        "####  Given the X numpy array, show all middle elements"
      ],
      "metadata": {
        "id": "Z4Owxx55ti9C"
      }
    },
    {
      "cell_type": "code",
      "source": [
        "a[1:-1]"
      ],
      "metadata": {
        "colab": {
          "base_uri": "https://localhost:8080/"
        },
        "id": "QlWr_SE5tVgi",
        "outputId": "5cb3282f-07f9-4f71-d85b-7ee2aac579c9"
      },
      "execution_count": 80,
      "outputs": [
        {
          "output_type": "execute_result",
          "data": {
            "text/plain": [
              "array([2, 3, 4])"
            ]
          },
          "metadata": {},
          "execution_count": 80
        }
      ]
    },
    {
      "cell_type": "markdown",
      "source": [
        "####  Given the X numpy array, show the elements in reverse position"
      ],
      "metadata": {
        "id": "RdmRwA3ptvff"
      }
    },
    {
      "cell_type": "code",
      "source": [
        "a[::-1]"
      ],
      "metadata": {
        "colab": {
          "base_uri": "https://localhost:8080/"
        },
        "id": "dwgdRvJktorx",
        "outputId": "3025dd34-3dc5-4d35-a02e-6d063973c7e7"
      },
      "execution_count": 87,
      "outputs": [
        {
          "output_type": "execute_result",
          "data": {
            "text/plain": [
              "array([5, 4, 3, 2, 1])"
            ]
          },
          "metadata": {},
          "execution_count": 87
        }
      ]
    },
    {
      "cell_type": "markdown",
      "source": [
        "#### Given the X numpy array, show the elements in an odd position"
      ],
      "metadata": {
        "id": "i2J5h7MluGRX"
      }
    },
    {
      "cell_type": "code",
      "source": [
        "a[::2]"
      ],
      "metadata": {
        "colab": {
          "base_uri": "https://localhost:8080/"
        },
        "id": "HzG92FASt3Fa",
        "outputId": "a1d13f2b-ec53-4817-dafd-d0f96a8d3e18"
      },
      "execution_count": 88,
      "outputs": [
        {
          "output_type": "execute_result",
          "data": {
            "text/plain": [
              "array([1, 3, 5])"
            ]
          },
          "metadata": {},
          "execution_count": 88
        }
      ]
    },
    {
      "cell_type": "markdown",
      "source": [
        "#### Given the X numpy matrix, show the first row elements"
      ],
      "metadata": {
        "id": "3lRWUXwKuO51"
      }
    },
    {
      "cell_type": "code",
      "source": [
        "X = np.array([\n",
        "    [1,   2,  3,  4],\n",
        "    [5,   6,  7,  8],\n",
        "    [9,  10, 11, 12],\n",
        "    [13, 14, 15, 16]\n",
        "])\n",
        "\n",
        "X[0]"
      ],
      "metadata": {
        "colab": {
          "base_uri": "https://localhost:8080/"
        },
        "id": "qSFc1HVKuLQD",
        "outputId": "eed1b039-bf2b-4fc5-a8a6-6a4b7a44c94c"
      },
      "execution_count": 89,
      "outputs": [
        {
          "output_type": "execute_result",
          "data": {
            "text/plain": [
              "array([1, 2, 3, 4])"
            ]
          },
          "metadata": {},
          "execution_count": 89
        }
      ]
    },
    {
      "cell_type": "markdown",
      "source": [
        "#### Given the X numpy matrix, show the last row elements"
      ],
      "metadata": {
        "id": "bc3JX1OkuY5U"
      }
    },
    {
      "cell_type": "code",
      "source": [
        "X[-1]"
      ],
      "metadata": {
        "colab": {
          "base_uri": "https://localhost:8080/"
        },
        "id": "uWD73ppJuWz7",
        "outputId": "64558de5-7446-413b-8601-c7a97cb3f218"
      },
      "execution_count": 91,
      "outputs": [
        {
          "output_type": "execute_result",
          "data": {
            "text/plain": [
              "array([13, 14, 15, 16])"
            ]
          },
          "metadata": {},
          "execution_count": 91
        }
      ]
    },
    {
      "cell_type": "markdown",
      "source": [
        "#### Given the X numpy matrix, show the first element on first row"
      ],
      "metadata": {
        "id": "BYwPRW9nupyC"
      }
    },
    {
      "cell_type": "code",
      "source": [
        "X[0,0]"
      ],
      "metadata": {
        "colab": {
          "base_uri": "https://localhost:8080/"
        },
        "id": "8X7utjKrufng",
        "outputId": "b2418ba2-6463-4513-b397-4286def7dd90"
      },
      "execution_count": 93,
      "outputs": [
        {
          "output_type": "execute_result",
          "data": {
            "text/plain": [
              "1"
            ]
          },
          "metadata": {},
          "execution_count": 93
        }
      ]
    },
    {
      "cell_type": "markdown",
      "source": [
        "#### Given the X numpy matrix, show the last element on last row"
      ],
      "metadata": {
        "id": "IugIQKXvu1ci"
      }
    },
    {
      "cell_type": "code",
      "source": [
        "X[-1,-1]"
      ],
      "metadata": {
        "colab": {
          "base_uri": "https://localhost:8080/"
        },
        "id": "DwUc5sS7uvcb",
        "outputId": "56209a55-2d1c-4798-c9db-5840f4982d1a"
      },
      "execution_count": 95,
      "outputs": [
        {
          "output_type": "execute_result",
          "data": {
            "text/plain": [
              "16"
            ]
          },
          "metadata": {},
          "execution_count": 95
        }
      ]
    },
    {
      "cell_type": "markdown",
      "source": [
        "#### Given the X numpy matrix, show the middle row elements"
      ],
      "metadata": {
        "id": "A_7bZ00wvBHs"
      }
    },
    {
      "cell_type": "code",
      "source": [
        "X[1:-1,1:-1]"
      ],
      "metadata": {
        "colab": {
          "base_uri": "https://localhost:8080/"
        },
        "id": "mADaR50lu6O8",
        "outputId": "1de94851-3269-42a5-bb93-d1c6492f25b2"
      },
      "execution_count": 97,
      "outputs": [
        {
          "output_type": "execute_result",
          "data": {
            "text/plain": [
              "array([[ 6,  7],\n",
              "       [10, 11]])"
            ]
          },
          "metadata": {},
          "execution_count": 97
        }
      ]
    },
    {
      "cell_type": "markdown",
      "source": [
        "#### Given the X numpy matrix, show the first two elements on the first two rows"
      ],
      "metadata": {
        "id": "xBLfomJGvXYe"
      }
    },
    {
      "cell_type": "code",
      "source": [
        "X[0:2,0:2]"
      ],
      "metadata": {
        "colab": {
          "base_uri": "https://localhost:8080/"
        },
        "id": "_PdECRWHvMiQ",
        "outputId": "d231fc43-0cc1-454e-ce29-7037e7a0b16e"
      },
      "execution_count": 99,
      "outputs": [
        {
          "output_type": "execute_result",
          "data": {
            "text/plain": [
              "array([[1, 2],\n",
              "       [5, 6]])"
            ]
          },
          "metadata": {},
          "execution_count": 99
        }
      ]
    },
    {
      "cell_type": "markdown",
      "source": [
        "#### Given the X numpy matrix, show the last two elements on the last two rows"
      ],
      "metadata": {
        "id": "9C5VmBnEvhkg"
      }
    },
    {
      "cell_type": "code",
      "source": [
        "X[2:,2:]"
      ],
      "metadata": {
        "colab": {
          "base_uri": "https://localhost:8080/"
        },
        "id": "WRKfauuPvfqs",
        "outputId": "ba80f61e-79f0-4155-fcd6-8c6d7c4ded5a"
      },
      "execution_count": 101,
      "outputs": [
        {
          "output_type": "execute_result",
          "data": {
            "text/plain": [
              "array([[11, 12],\n",
              "       [15, 16]])"
            ]
          },
          "metadata": {},
          "execution_count": 101
        }
      ]
    },
    {
      "cell_type": "code",
      "source": [
        ""
      ],
      "metadata": {
        "id": "MerYwEULv0wF"
      },
      "execution_count": null,
      "outputs": []
    }
  ]
}